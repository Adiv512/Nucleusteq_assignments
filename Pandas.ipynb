{
 "cells": [
  {
   "cell_type": "code",
   "execution_count": 11,
   "id": "416a5867",
   "metadata": {},
   "outputs": [
    {
     "data": {
      "text/html": [
       "<div>\n",
       "<style scoped>\n",
       "    .dataframe tbody tr th:only-of-type {\n",
       "        vertical-align: middle;\n",
       "    }\n",
       "\n",
       "    .dataframe tbody tr th {\n",
       "        vertical-align: top;\n",
       "    }\n",
       "\n",
       "    .dataframe thead th {\n",
       "        text-align: right;\n",
       "    }\n",
       "</style>\n",
       "<table border=\"1\" class=\"dataframe\">\n",
       "  <thead>\n",
       "    <tr style=\"text-align: right;\">\n",
       "      <th></th>\n",
       "      <th>Name</th>\n",
       "      <th>Age</th>\n",
       "    </tr>\n",
       "  </thead>\n",
       "  <tbody>\n",
       "    <tr>\n",
       "      <th>0</th>\n",
       "      <td>Adi</td>\n",
       "      <td>15</td>\n",
       "    </tr>\n",
       "    <tr>\n",
       "      <th>1</th>\n",
       "      <td>Om</td>\n",
       "      <td>37</td>\n",
       "    </tr>\n",
       "    <tr>\n",
       "      <th>2</th>\n",
       "      <td>Anu</td>\n",
       "      <td>25</td>\n",
       "    </tr>\n",
       "  </tbody>\n",
       "</table>\n",
       "</div>"
      ],
      "text/plain": [
       "  Name  Age\n",
       "0  Adi   15\n",
       "1   Om   37\n",
       "2  Anu   25"
      ]
     },
     "execution_count": 11,
     "metadata": {},
     "output_type": "execute_result"
    }
   ],
   "source": [
    "import pandas as pd\n",
    "\n",
    "data = {'Name': ['Adi', 'Om', 'Anu'],\n",
    "        'Age': [15, 37, 25]}\n",
    "df = pd.DataFrame(data)\n",
    "\n",
    "\n",
    "df\n",
    "\n"
   ]
  },
  {
   "cell_type": "code",
   "execution_count": 12,
   "id": "14cf213d",
   "metadata": {},
   "outputs": [
    {
     "name": "stdout",
     "output_type": "stream",
     "text": [
      "  Name  Age\n",
      "0  Adi   15\n",
      "1   Om   37\n",
      "2  Anu   25\n",
      "  Name  Age\n",
      "0  Adi   15\n",
      "1   Om   37\n",
      "2  Anu   25\n",
      "<class 'pandas.core.frame.DataFrame'>\n",
      "RangeIndex: 3 entries, 0 to 2\n",
      "Data columns (total 2 columns):\n",
      " #   Column  Non-Null Count  Dtype \n",
      "---  ------  --------------  ----- \n",
      " 0   Name    3 non-null      object\n",
      " 1   Age     3 non-null      int64 \n",
      "dtypes: int64(1), object(1)\n",
      "memory usage: 176.0+ bytes\n",
      "None\n",
      "             Age\n",
      "count   3.000000\n",
      "mean   25.666667\n",
      "std    11.015141\n",
      "min    15.000000\n",
      "25%    20.000000\n",
      "50%    25.000000\n",
      "75%    31.000000\n",
      "max    37.000000\n"
     ]
    }
   ],
   "source": [
    "# Display first few rows\n",
    "print(df.head())\n",
    "\n",
    "# Display last few rows\n",
    "print(df.tail())\n",
    "\n",
    "# Get basic information about the DataFrame\n",
    "print(df.info())\n",
    "\n",
    "# Summary statistics\n",
    "print(df.describe())"
   ]
  },
  {
   "cell_type": "code",
   "execution_count": 13,
   "id": "6d9d3825",
   "metadata": {},
   "outputs": [
    {
     "name": "stdout",
     "output_type": "stream",
     "text": [
      "0    Adi\n",
      "1     Om\n",
      "2    Anu\n",
      "Name: Name, dtype: object\n",
      "Name    Adi\n",
      "Age      15\n",
      "Name: 0, dtype: object\n",
      "15\n"
     ]
    }
   ],
   "source": [
    "# Access a column\n",
    "print(df['Name'])\n",
    "\n",
    "# Access a row by index\n",
    "print(df.loc[0])\n",
    "\n",
    "# Access a specific cell\n",
    "print(df.at[0, 'Age'])"
   ]
  },
  {
   "cell_type": "code",
   "execution_count": 18,
   "id": "56b175eb",
   "metadata": {},
   "outputs": [
    {
     "name": "stdout",
     "output_type": "stream",
     "text": [
      "  Name  Age\n",
      "1   Om   37\n",
      "  Name  Age\n",
      "0  Adi   15\n",
      "2  Anu   25\n"
     ]
    }
   ],
   "source": [
    "# Filter rows based on condition\n",
    "filtered_df = df[df['Age'] > 30]\n",
    "print(filtered_df)\n",
    "\n",
    "\n",
    "# Filter rows based on multiple conditions\n",
    "filtered_df = df[(df['Age'] > 14) & (df['Age'] < 35)]\n",
    "print(filtered_df)"
   ]
  },
  {
   "cell_type": "code",
   "execution_count": 21,
   "id": "6d93f8c1",
   "metadata": {},
   "outputs": [
    {
     "name": "stdout",
     "output_type": "stream",
     "text": [
      "  Name  Age  Gender\n",
      "0  Adi   15    male\n",
      "1   Om   37    Male\n",
      "2  Anu   25  feMale\n",
      "  Name  Age\n",
      "0  Adi   15\n",
      "1   Om   37\n",
      "2  Anu   25\n"
     ]
    }
   ],
   "source": [
    "# Add a new column\n",
    "df['Gender'] = ['male', 'Male', 'feMale']\n",
    "print(df)\n",
    "\n",
    "# Remove a column\n",
    "df.drop('Gender', axis=1, inplace=True)\n",
    "print(df)"
   ]
  },
  {
   "cell_type": "code",
   "execution_count": 22,
   "id": "e0db7213",
   "metadata": {},
   "outputs": [
    {
     "name": "stdout",
     "output_type": "stream",
     "text": [
      "    Name    Age\n",
      "0  False  False\n",
      "1  False  False\n",
      "2  False  False\n"
     ]
    }
   ],
   "source": [
    "# Check for missing values\n",
    "print(df.isnull())\n",
    "\n",
    "# Drop rows with missing values\n",
    "df.dropna(inplace=True)\n",
    "\n",
    "# Fill missing values with a specific value\n",
    "df.fillna(0, inplace=True)"
   ]
  },
  {
   "cell_type": "code",
   "execution_count": 25,
   "id": "aede301a",
   "metadata": {},
   "outputs": [
    {
     "name": "stdout",
     "output_type": "stream",
     "text": [
      "  Name  Age\n",
      "0  Adi   15\n",
      "2  Anu   25\n",
      "1   Om   37\n"
     ]
    }
   ],
   "source": [
    "# Sort DataFrame by a column\n",
    "sorted_df = df.sort_values(by='Age', ascending=True)\n",
    "print(sorted_df)"
   ]
  },
  {
   "cell_type": "code",
   "execution_count": 26,
   "id": "72a43e93",
   "metadata": {},
   "outputs": [
    {
     "name": "stdout",
     "output_type": "stream",
     "text": [
      "Adi 15\n",
      "Om 37\n",
      "Anu 25\n"
     ]
    }
   ],
   "source": [
    "for index, row in df.iterrows():\n",
    "    print(row['Name'], row['Age'])"
   ]
  },
  {
   "cell_type": "code",
   "execution_count": 28,
   "id": "4127a363",
   "metadata": {},
   "outputs": [
    {
     "name": "stdout",
     "output_type": "stream",
     "text": [
      "  key  value_x  value_y\n",
      "0   A        1        3\n",
      "1   B        2        4\n"
     ]
    }
   ],
   "source": [
    "#merging data\n",
    "df1 = pd.DataFrame({'key': ['A', 'B'], 'value': [1, 2]})\n",
    "df2 = pd.DataFrame({'key': ['A', 'B'], 'value': [3, 4]})\n",
    "result = pd.merge(df1, df2, on='key')\n",
    "print(result)"
   ]
  },
  {
   "cell_type": "code",
   "execution_count": null,
   "id": "964086dd",
   "metadata": {},
   "outputs": [],
   "source": []
  }
 ],
 "metadata": {
  "kernelspec": {
   "display_name": "Python 3 (ipykernel)",
   "language": "python",
   "name": "python3"
  },
  "language_info": {
   "codemirror_mode": {
    "name": "ipython",
    "version": 3
   },
   "file_extension": ".py",
   "mimetype": "text/x-python",
   "name": "python",
   "nbconvert_exporter": "python",
   "pygments_lexer": "ipython3",
   "version": "3.9.12"
  }
 },
 "nbformat": 4,
 "nbformat_minor": 5
}
