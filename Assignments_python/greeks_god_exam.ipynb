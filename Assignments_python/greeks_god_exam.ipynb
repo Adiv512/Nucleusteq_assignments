{
 "cells": [
  {
   "cell_type": "code",
   "execution_count": 5,
   "id": "5b082577",
   "metadata": {},
   "outputs": [],
   "source": [
    "import csv\n",
    "\n",
    "greek_gods_data = [\n",
    "    [\"God\", \"Domain\", \"Symbol\", \"Age\"],\n",
    "    [\"Zeus\", \"King of the Gods\", \"Thunderbolt\", 10000],\n",
    "    [\"Poseidon\", \"God of the Sea\", \"Trident\", 9000],\n",
    "    [\"Hera\", \"Queen of the Gods\", \"Peacock\", 8500],\n",
    "    [\"Athena\", \"Goddess of Wisdom\", \"Owl\", 8000],\n",
    "    [\"Hades\", \"God of the Underworld\", \"Helmet\", 9500]\n",
    "]\n",
    "greek_goddesses_data = [\n",
    "    [\"Goddess\", \"Domain\", \"Symbol\", \"Age\"],\n",
    "    [\"Aphrodite\", \"Goddess of Love\", \"Dove\", 7000],\n",
    "    [\"Artemis\", \"Goddess of the Hunt\", \"Bow and Arrow\", 7500],\n",
    "    [\"Demeter\", \"Goddess of Agriculture\", \"Wheat\", 8000],\n",
    "    [\"Hestia\", \"Goddess of the Hearth\", \"Fire\", 8200],\n",
    "    [\"Persephone\", \"Queen of the Underworld\", \"Pomegranate\", 7800]\n",
    "]"
   ]
  },
  {
   "cell_type": "code",
   "execution_count": 8,
   "id": "b78abd13",
   "metadata": {},
   "outputs": [],
   "source": [
    "# Write to greek_gods.csv\n",
    "with open(\"greek_gods.csv\", \"w\", newline=\"\") as file:\n",
    "    writer = csv.writer(file)\n",
    "    writer.writerows(greek_gods_data)"
   ]
  },
  {
   "cell_type": "code",
   "execution_count": 9,
   "id": "a93645c4",
   "metadata": {},
   "outputs": [],
   "source": [
    "# Write to greek_goddesses.csv\n",
    "with open(\"greek_goddesses.csv\", \"w\", newline=\"\") as file:\n",
    "    writer = csv.writer(file)\n",
    "    writer.writerows(greek_goddesses_data)\n"
   ]
  },
  {
   "cell_type": "code",
   "execution_count": 12,
   "id": "8ab086a8",
   "metadata": {},
   "outputs": [
    {
     "name": "stdout",
     "output_type": "stream",
     "text": [
      "Merged Table:\n",
      "        God                   Domain     Symbol_x    Age_x     Goddess  \\\n",
      "0      Zeus         King of the Gods  Thunderbolt  10000.0         NaN   \n",
      "1  Poseidon           God of the Sea      Trident   9000.0         NaN   \n",
      "2      Hera        Queen of the Gods      Peacock   8500.0         NaN   \n",
      "3    Athena        Goddess of Wisdom          Owl   8000.0         NaN   \n",
      "4     Hades    God of the Underworld       Helmet   9500.0         NaN   \n",
      "5       NaN          Goddess of Love          NaN      NaN   Aphrodite   \n",
      "6       NaN      Goddess of the Hunt          NaN      NaN     Artemis   \n",
      "7       NaN   Goddess of Agriculture          NaN      NaN     Demeter   \n",
      "8       NaN    Goddess of the Hearth          NaN      NaN      Hestia   \n",
      "9       NaN  Queen of the Underworld          NaN      NaN  Persephone   \n",
      "\n",
      "        Symbol_y   Age_y  \n",
      "0            NaN     NaN  \n",
      "1            NaN     NaN  \n",
      "2            NaN     NaN  \n",
      "3            NaN     NaN  \n",
      "4            NaN     NaN  \n",
      "5           Dove  7000.0  \n",
      "6  Bow and Arrow  7500.0  \n",
      "7          Wheat  8000.0  \n",
      "8           Fire  8200.0  \n",
      "9    Pomegranate  7800.0  \n"
     ]
    }
   ],
   "source": [
    "#1.Merge the data from greek_gods.csv and greek_goddesses.csv based on a common field and create a new table that includes information about both gods and goddesses.\n",
    "\n",
    "\n",
    "import pandas as pd\n",
    "\n",
    "# Read CSV files\n",
    "greek_gods = pd.read_csv(\"greek_gods.csv\")\n",
    "greek_goddesses = pd.read_csv(\"greek_goddesses.csv\")\n",
    "\n",
    "# Merge based on Domain\n",
    "merged_table = pd.merge(greek_gods, greek_goddesses, on=\"Domain\", how=\"outer\")\n",
    "\n",
    "print(\"Merged Table:\")\n",
    "print(merged_table)"
   ]
  },
  {
   "cell_type": "code",
   "execution_count": 13,
   "id": "65b096df",
   "metadata": {},
   "outputs": [
    {
     "name": "stdout",
     "output_type": "stream",
     "text": [
      "\n",
      "Filtered and Sorted Table:\n",
      "        God                 Domain     Symbol_x    Age_x Goddess Symbol_y  \\\n",
      "0      Zeus       King of the Gods  Thunderbolt  10000.0     NaN      NaN   \n",
      "4     Hades  God of the Underworld       Helmet   9500.0     NaN      NaN   \n",
      "1  Poseidon         God of the Sea      Trident   9000.0     NaN      NaN   \n",
      "2      Hera      Queen of the Gods      Peacock   8500.0     NaN      NaN   \n",
      "8       NaN  Goddess of the Hearth          NaN      NaN  Hestia     Fire   \n",
      "\n",
      "    Age_y  \n",
      "0     NaN  \n",
      "4     NaN  \n",
      "1     NaN  \n",
      "2     NaN  \n",
      "8  8200.0  \n"
     ]
    }
   ],
   "source": [
    "#2.Filter the merged table to only include gods and goddesses who are older than 8000 years, then sort them based on their ages in descending order.\n",
    "\n",
    "filtered_table = merged_table[(merged_table[\"Age_x\"] > 8000) | (merged_table[\"Age_y\"] > 8000)]\n",
    "sorted_table = filtered_table.sort_values(by=[\"Age_x\", \"Age_y\"], ascending=False)\n",
    "\n",
    "print(\"\\nFiltered and Sorted Table:\")\n",
    "print(sorted_table)"
   ]
  },
  {
   "cell_type": "code",
   "execution_count": 14,
   "id": "4ad656f0",
   "metadata": {},
   "outputs": [
    {
     "name": "stdout",
     "output_type": "stream",
     "text": [
      "\n",
      "Average Age by Domain:\n",
      "                         Age_god  Age_goddess\n",
      "Domain                                       \n",
      "God of the Sea            9000.0          NaN\n",
      "God of the Underworld     9500.0          NaN\n",
      "Goddess of Agriculture       NaN       8000.0\n",
      "Goddess of Love              NaN       7000.0\n",
      "Goddess of Wisdom         8000.0          NaN\n",
      "Goddess of the Hearth        NaN       8200.0\n",
      "Goddess of the Hunt          NaN       7500.0\n",
      "King of the Gods         10000.0          NaN\n",
      "Queen of the Gods         8500.0          NaN\n",
      "Queen of the Underworld      NaN       7800.0\n"
     ]
    }
   ],
   "source": [
    "#3.Join the two tables based on the \"Domain\" field and calculate the average age of gods and goddesses in each domain.\n",
    "\n",
    "# Join based on Domain\n",
    "joined_table = pd.merge(greek_gods, greek_goddesses, on=\"Domain\", how=\"outer\", suffixes=('_god', '_goddess'))\n",
    "\n",
    "# Calculate average age\n",
    "average_age_by_domain = joined_table.groupby(\"Domain\")[[\"Age_god\", \"Age_goddess\"]].mean()\n",
    "\n",
    "print(\"\\nAverage Age by Domain:\")\n",
    "print(average_age_by_domain)"
   ]
  },
  {
   "cell_type": "code",
   "execution_count": 15,
   "id": "a1b1bae7",
   "metadata": {},
   "outputs": [
    {
     "name": "stdout",
     "output_type": "stream",
     "text": [
      "\n",
      "Entity with the highest age: God\n",
      "Highest Age: 10000.0\n"
     ]
    }
   ],
   "source": [
    "#4.Determine which god/goddess has the highest age, and then find out if they are a god or a goddess.\n",
    "\n",
    "# Find the max age and corresponding entity\n",
    "max_age = max(joined_table[[\"Age_god\", \"Age_goddess\"]].max())\n",
    "max_entity = \"God\" if max_age == joined_table[\"Age_god\"].max() else \"Goddess\"\n",
    "\n",
    "print(\"\\nEntity with the highest age:\", max_entity)\n",
    "print(\"Highest Age:\", max_age)"
   ]
  },
  {
   "cell_type": "code",
   "execution_count": 16,
   "id": "51bb09cc",
   "metadata": {},
   "outputs": [
    {
     "name": "stdout",
     "output_type": "stream",
     "text": [
      "\n",
      "Greek Gods Table with Age Groups:\n",
      "        God                 Domain       Symbol    Age    Age_Group\n",
      "0      Zeus       King of the Gods  Thunderbolt  10000          Old\n",
      "1  Poseidon         God of the Sea      Trident   9000          Old\n",
      "2      Hera      Queen of the Gods      Peacock   8500          Old\n",
      "3    Athena      Goddess of Wisdom          Owl   8000  Middle-aged\n",
      "4     Hades  God of the Underworld       Helmet   9500          Old\n",
      "\n",
      "Greek Goddesses Table with Age Groups:\n",
      "      Goddess                   Domain         Symbol   Age    Age_Group\n",
      "0   Aphrodite          Goddess of Love           Dove  7000  Middle-aged\n",
      "1     Artemis      Goddess of the Hunt  Bow and Arrow  7500  Middle-aged\n",
      "2     Demeter   Goddess of Agriculture          Wheat  8000  Middle-aged\n",
      "3      Hestia    Goddess of the Hearth           Fire  8200          Old\n",
      "4  Persephone  Queen of the Underworld    Pomegranate  7800  Middle-aged\n"
     ]
    }
   ],
   "source": [
    "#5.Create a new column in each table called \"Age_Group\" and categorize the gods/goddesses into groups such as \"Young\" (age < 5000), \"Middle-aged\" (age between 5000 and 8000), and \"Old\" (age > 8000).\n",
    "\n",
    "\n",
    "# Define age groups\n",
    "def categorize_age(age):\n",
    "    if age < 5000:\n",
    "        return \"Young\"\n",
    "    elif age <= 8000:\n",
    "        return \"Middle-aged\"\n",
    "    else:\n",
    "        return \"Old\"\n",
    "\n",
    "# Apply categorization\n",
    "greek_gods[\"Age_Group\"] = greek_gods[\"Age\"].apply(categorize_age)\n",
    "greek_goddesses[\"Age_Group\"] = greek_goddesses[\"Age\"].apply(categorize_age)\n",
    "\n",
    "print(\"\\nGreek Gods Table with Age Groups:\")\n",
    "print(greek_gods)\n",
    "\n",
    "print(\"\\nGreek Goddesses Table with Age Groups:\")\n",
    "print(greek_goddesses)"
   ]
  },
  {
   "cell_type": "code",
   "execution_count": 17,
   "id": "620de143",
   "metadata": {},
   "outputs": [
    {
     "name": "stdout",
     "output_type": "stream",
     "text": [
      "\n",
      "Gods tend to be older on average.\n",
      "Average Age of Gods: 9000.0\n",
      "Average Age of Goddesses: 7700.0\n"
     ]
    }
   ],
   "source": [
    "#6.Compare the average ages of gods and goddesses. Is there a significant age difference between them? If yes, which group tends to be older?\n",
    "\n",
    "# Calculate average ages\n",
    "average_age_gods = greek_gods[\"Age\"].mean()\n",
    "average_age_goddesses = greek_goddesses[\"Age\"].mean()\n",
    "\n",
    "# Compare average ages\n",
    "if average_age_gods > average_age_goddesses:\n",
    "    print(\"\\nGods tend to be older on average.\")\n",
    "    print(\"Average Age of Gods:\", average_age_gods)\n",
    "    print(\"Average Age of Goddesses:\", average_age_goddesses)\n",
    "elif average_age_goddesses > average_age_gods:\n",
    "    print(\"\\nGoddesses tend to be older on average.\")\n",
    "    print(\"Average Age of Goddesses:\", average_age_goddesses)\n",
    "    print(\"Average Age of Gods:\", average_age_gods)\n",
    "else:\n",
    "    print(\"\\nAverage ages of gods and goddesses are the same.\")"
   ]
  },
  {
   "cell_type": "code",
   "execution_count": 18,
   "id": "e1d915c2",
   "metadata": {},
   "outputs": [
    {
     "name": "stdout",
     "output_type": "stream",
     "text": [
      "\n",
      "Gods/Goddesses older than 8000 years:\n",
      "Zeus\n",
      "Poseidon\n",
      "Hera\n",
      "Hades\n",
      "Hestia\n"
     ]
    }
   ],
   "source": [
    "#7.Write a Python program using for loop to iterate over the \"Age\" column of the merged table (after merging the gods and goddesses tables) and print out the names of gods/goddesses who are older than 8000 years.\n",
    "\n",
    "# Get names of gods/goddesses older than 8000 years\n",
    "older_than_8000 = []\n",
    "for index, row in merged_table.iterrows():\n",
    "    if row[\"Age_x\"] > 8000:\n",
    "        older_than_8000.append(row[\"God\"])\n",
    "    if row[\"Age_y\"] > 8000:\n",
    "        older_than_8000.append(row[\"Goddess\"])\n",
    "\n",
    "print(\"\\nGods/Goddesses older than 8000 years:\")\n",
    "for name in older_than_8000:\n",
    "    print(name)"
   ]
  },
  {
   "cell_type": "code",
   "execution_count": 22,
   "id": "2b82b15b",
   "metadata": {},
   "outputs": [
    {
     "name": "stdout",
     "output_type": "stream",
     "text": [
      "Oldest: Zeus\n",
      "Age: 10000.0\n"
     ]
    }
   ],
   "source": [
    "#8.Write a Python program to find the oldest god/goddess from the merged table (after merging the gods and goddesses tables) by iterating through the \"Age\" column using a while loop. Print out the name of the oldest god/goddess and their age.\n",
    "\n",
    "# Create a merged table\n",
    "merged_table = pd.merge(greek_gods, greek_goddesses, on=\"Domain\", how=\"outer\")\n",
    "\n",
    "# Iterate through the \"Age\" column to find the oldest god/goddess\n",
    "max_age = -1\n",
    "oldest = \"\"\n",
    "i = 0\n",
    "while i < len(merged_table):\n",
    "    if merged_table.loc[i, \"Age_x\"] > max_age:\n",
    "        max_age = merged_table.loc[i, \"Age_x\"]\n",
    "        oldest = merged_table.loc[i, \"God\"]\n",
    "    if merged_table.loc[i, \"Age_y\"] > max_age:\n",
    "        max_age = merged_table.loc[i, \"Age_y\"]\n",
    "        oldest = merged_table.loc[i, \"Goddess\"]\n",
    "    i += 1\n",
    "\n",
    "# Print the oldest god/goddess and their age\n",
    "print(\"Oldest:\", oldest)\n",
    "print(\"Age:\", max_age)"
   ]
  },
  {
   "cell_type": "code",
   "execution_count": null,
   "id": "75053c26",
   "metadata": {},
   "outputs": [],
   "source": []
  }
 ],
 "metadata": {
  "language_info": {
   "name": "python"
  }
 },
 "nbformat": 4,
 "nbformat_minor": 5
}
