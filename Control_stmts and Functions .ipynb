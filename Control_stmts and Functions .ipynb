{
 "cells": [
  {
   "cell_type": "code",
   "execution_count": 1,
   "id": "c86bf4f1",
   "metadata": {},
   "outputs": [
    {
     "name": "stdout",
     "output_type": "stream",
     "text": [
      "x is greater than 5\n",
      "y is greater than 10\n"
     ]
    }
   ],
   "source": [
    "# Example 1: Simple if-else statement\n",
    "x = 10\n",
    "if x > 5:\n",
    "    print(\"x is greater than 5\")\n",
    "else:\n",
    "    print(\"x is less than or equal to 5\")\n",
    "\n",
    "# Example 2: Chained if-else statement\n",
    "y = 12\n",
    "if y > 10:\n",
    "    print(\"y is greater than 10\")\n",
    "elif y == 10:\n",
    "    print(\"y is equal to 10\")\n",
    "else:\n",
    "    print(\"y is less than 10\")"
   ]
  },
  {
   "cell_type": "code",
   "execution_count": 2,
   "id": "d313ea64",
   "metadata": {},
   "outputs": [
    {
     "name": "stdout",
     "output_type": "stream",
     "text": [
      "1\n",
      "2\n",
      "3\n",
      "4\n",
      "5\n"
     ]
    }
   ],
   "source": [
    "# Example: Print numbers from 1 to 5 using a while loop\n",
    "i = 1\n",
    "while i <= 5:\n",
    "    print(i)\n",
    "    i += 1"
   ]
  },
  {
   "cell_type": "code",
   "execution_count": 6,
   "id": "b31025df",
   "metadata": {},
   "outputs": [
    {
     "name": "stdout",
     "output_type": "stream",
     "text": [
      "apple\n",
      "banana\n",
      "cherry\n",
      "1\n",
      "2\n",
      "3\n",
      "4\n",
      "5\n",
      "0 1 2 3 4 \n",
      "10 11 12 13 14 15 16 17 18 19 \n",
      "1 3 5 7 9 name: adi\n",
      "age: 22\n",
      "city: Raipur\n"
     ]
    }
   ],
   "source": [
    "# Example 1: Iterate over a sequence\n",
    "fruits = [\"apple\", \"banana\", \"cherry\"]\n",
    "for fruit in fruits:\n",
    "    print(fruit)\n",
    "\n",
    "# Example 2: Iterate over a range of numbers\n",
    "for i in range(1, 6):\n",
    "    print(i)\n",
    "for num in range(5):\n",
    " print (num, end=' ')\n",
    "print()\n",
    "for num in range(10,20):\n",
    " print (num, end=' ')\n",
    "print()\n",
    "for num in range(1, 10, 2):\n",
    " print (num, end=' ')\n",
    "\n",
    "# Example 3: Iterate over dictionary key-value pairs\n",
    "person = {\"name\": \"adi\", \"age\": 22, \"city\": \"Raipur\"}\n",
    "for key, value in person.items():\n",
    "    print(key + \":\", value)"
   ]
  },
  {
   "cell_type": "code",
   "execution_count": 5,
   "id": "c0358490",
   "metadata": {},
   "outputs": [
    {
     "name": "stdout",
     "output_type": "stream",
     "text": [
      "1\n",
      "2\n",
      "1\n",
      "2\n",
      "4\n",
      "5\n"
     ]
    }
   ],
   "source": [
    "# Example: Use of break and continue in loops\n",
    "numbers = [1, 2, 3, 4, 5]\n",
    "for number in numbers:\n",
    "    if number == 3:\n",
    "        break  # Exit the loop when number is 3\n",
    "    print(number)\n",
    "\n",
    "\n",
    "for number in numbers:\n",
    "    if number == 3:\n",
    "        continue  # Skip the iteration when number is 3\n",
    "    print(number)"
   ]
  },
  {
   "cell_type": "code",
   "execution_count": 7,
   "id": "f39c1e49",
   "metadata": {},
   "outputs": [],
   "source": [
    "#functions\n",
    "def greet():\n",
    "    print(\"Hello, world!\")"
   ]
  },
  {
   "cell_type": "code",
   "execution_count": 8,
   "id": "ecc87cfc",
   "metadata": {},
   "outputs": [
    {
     "name": "stdout",
     "output_type": "stream",
     "text": [
      "Hello, world!\n"
     ]
    }
   ],
   "source": [
    "greet()  #calling function"
   ]
  },
  {
   "cell_type": "code",
   "execution_count": 10,
   "id": "6aafedeb",
   "metadata": {},
   "outputs": [
    {
     "name": "stdout",
     "output_type": "stream",
     "text": [
      "Hello, Adi\n"
     ]
    }
   ],
   "source": [
    "def greet(name):\n",
    "    print(\"Hello,\", name)     #parameters in function\n",
    "\n",
    "greet(\"Adi\")"
   ]
  },
  {
   "cell_type": "code",
   "execution_count": 12,
   "id": "b0d2bd36",
   "metadata": {},
   "outputs": [
    {
     "name": "stdout",
     "output_type": "stream",
     "text": [
      "Hello, world\n",
      "Hello, Adi\n"
     ]
    }
   ],
   "source": [
    "def greet(name=\"world\"):\n",
    "    print(\"Hello,\", name)\n",
    "\n",
    "greet()  \n",
    "greet(\"Adi\")"
   ]
  },
  {
   "cell_type": "code",
   "execution_count": 13,
   "id": "b93c30f7",
   "metadata": {},
   "outputs": [
    {
     "name": "stdout",
     "output_type": "stream",
     "text": [
      "8\n"
     ]
    }
   ],
   "source": [
    "def add(a, b):\n",
    "    return a + b\n",
    "\n",
    "result = add(3, 5)\n",
    "print(result)"
   ]
  },
  {
   "cell_type": "code",
   "execution_count": 14,
   "id": "0ce5e582",
   "metadata": {},
   "outputs": [
    {
     "name": "stdout",
     "output_type": "stream",
     "text": [
      "15\n"
     ]
    }
   ],
   "source": [
    "def sum_values(*args):\n",
    "    total = 0\n",
    "    for num in args:\n",
    "        total += num\n",
    "    return total\n",
    "\n",
    "result = sum_values(1, 2, 3, 4, 5)\n",
    "print(result) "
   ]
  },
  {
   "cell_type": "code",
   "execution_count": 16,
   "id": "ac731062",
   "metadata": {},
   "outputs": [
    {
     "name": "stdout",
     "output_type": "stream",
     "text": [
      "Hello Adi\n",
      "Good morning Adi\n"
     ]
    }
   ],
   "source": [
    "def greet(name, message=\"Hello\"):\n",
    "    print(message, name)\n",
    "\n",
    "greet(\"Adi\")  \n",
    "greet(\"Adi\", \"Good morning\")"
   ]
  },
  {
   "cell_type": "code",
   "execution_count": 17,
   "id": "f127178a",
   "metadata": {},
   "outputs": [
    {
     "name": "stdout",
     "output_type": "stream",
     "text": [
      "8\n"
     ]
    }
   ],
   "source": [
    "#lambda Functions\n",
    "#Lambda functions, also known as anonymous functions, are small, single-expression functions that don't require a separate def statement. They are often used when you need a short function for a short period of time and don't want to define a formal function using the def keyword. \n",
    "\n",
    "# Define a lambda function to add two numbers\n",
    "add = lambda x, y: x + y\n",
    "\n",
    "# Call the lambda function\n",
    "result = add(3, 5)\n",
    "print(result) "
   ]
  },
  {
   "cell_type": "code",
   "execution_count": 19,
   "id": "f51512f6",
   "metadata": {},
   "outputs": [
    {
     "name": "stdout",
     "output_type": "stream",
     "text": [
      "33\n"
     ]
    }
   ],
   "source": [
    "def myfunc(n):\n",
    "  return lambda a : a * n\n",
    "\n",
    "mlti = myfunc(3)\n",
    "\n",
    "print(mlti(11))"
   ]
  },
  {
   "cell_type": "code",
   "execution_count": null,
   "id": "67b899cc",
   "metadata": {},
   "outputs": [],
   "source": []
  }
 ],
 "metadata": {
  "kernelspec": {
   "display_name": "Python 3 (ipykernel)",
   "language": "python",
   "name": "python3"
  },
  "language_info": {
   "codemirror_mode": {
    "name": "ipython",
    "version": 3
   },
   "file_extension": ".py",
   "mimetype": "text/x-python",
   "name": "python",
   "nbconvert_exporter": "python",
   "pygments_lexer": "ipython3",
   "version": "3.9.12"
  }
 },
 "nbformat": 4,
 "nbformat_minor": 5
}
