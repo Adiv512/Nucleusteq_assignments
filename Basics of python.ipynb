{
 "cells": [
  {
   "cell_type": "code",
   "execution_count": 3,
   "id": "c661c443",
   "metadata": {},
   "outputs": [
    {
     "name": "stdout",
     "output_type": "stream",
     "text": [
      "Hello-World\n"
     ]
    }
   ],
   "source": [
    "print(\"Hello-World\")"
   ]
  },
  {
   "cell_type": "code",
   "execution_count": 7,
   "id": "b82336af",
   "metadata": {},
   "outputs": [
    {
     "name": "stdout",
     "output_type": "stream",
     "text": [
      "3.9.12 (main, Apr  4 2022, 05:22:27) [MSC v.1916 64 bit (AMD64)]\n"
     ]
    }
   ],
   "source": [
    "import sys                      #to know the version of python\n",
    "\n",
    "print(sys.version) "
   ]
  },
  {
   "cell_type": "code",
   "execution_count": 11,
   "id": "af1ba79d",
   "metadata": {},
   "outputs": [
    {
     "name": "stdout",
     "output_type": "stream",
     "text": [
      "Aditya\n"
     ]
    }
   ],
   "source": [
    "name = \"Aditya\"\n",
    "print(name)  "
   ]
  },
  {
   "cell_type": "code",
   "execution_count": 14,
   "id": "716a82dc",
   "metadata": {},
   "outputs": [
    {
     "name": "stdout",
     "output_type": "stream",
     "text": [
      "Multiline comment\n"
     ]
    }
   ],
   "source": [
    "\"\"\"\n",
    "This is a comment\n",
    "in 2 line       \n",
    "\n",
    "\"\"\"\n",
    "print(\"Multiline comment\")"
   ]
  },
  {
   "cell_type": "code",
   "execution_count": 15,
   "id": "86d7b40e",
   "metadata": {},
   "outputs": [
    {
     "name": "stdout",
     "output_type": "stream",
     "text": [
      "1\n",
      "dog\n"
     ]
    }
   ],
   "source": [
    "#variables in python\n",
    "x = 1\n",
    "y = \"dog\"\n",
    "print(x)\n",
    "print(y)\n"
   ]
  },
  {
   "cell_type": "code",
   "execution_count": 16,
   "id": "1af307b0",
   "metadata": {},
   "outputs": [
    {
     "name": "stdout",
     "output_type": "stream",
     "text": [
      "<class 'int'>\n",
      "<class 'str'>\n"
     ]
    }
   ],
   "source": [
    "#to get the type of variables\n",
    "x = 5\n",
    "y = \"John\"\n",
    "print(type(x))\n",
    "print(type(y))\n"
   ]
  },
  {
   "cell_type": "code",
   "execution_count": 18,
   "id": "704c51fc",
   "metadata": {},
   "outputs": [
    {
     "name": "stdout",
     "output_type": "stream",
     "text": [
      "Python is best\n"
     ]
    }
   ],
   "source": [
    "#global variable\n",
    "x = \"best\"\n",
    "\n",
    "def hey():\n",
    "  print(\"Python is \" + x)\n",
    "\n",
    "hey()\n"
   ]
  },
  {
   "cell_type": "code",
   "execution_count": 19,
   "id": "1d2f4be1",
   "metadata": {},
   "outputs": [
    {
     "name": "stdout",
     "output_type": "stream",
     "text": [
      "15\n"
     ]
    }
   ],
   "source": [
    "#local variable\n",
    "def sum(x,y):\n",
    "   sum = x + y\n",
    "   return sum\n",
    "print(sum(5, 10))"
   ]
  },
  {
   "cell_type": "code",
   "execution_count": 21,
   "id": "0399ecad",
   "metadata": {},
   "outputs": [
    {
     "name": "stdout",
     "output_type": "stream",
     "text": [
      "6\n"
     ]
    },
    {
     "ename": "NameError",
     "evalue": "name 'x' is not defined",
     "output_type": "error",
     "traceback": [
      "\u001b[1;31m---------------------------------------------------------------------------\u001b[0m",
      "\u001b[1;31mNameError\u001b[0m                                 Traceback (most recent call last)",
      "Input \u001b[1;32mIn [21]\u001b[0m, in \u001b[0;36m<cell line: 5>\u001b[1;34m()\u001b[0m\n\u001b[0;32m      3\u001b[0m \u001b[38;5;28mprint\u001b[39m(x)     \n\u001b[0;32m      4\u001b[0m \u001b[38;5;28;01mdel\u001b[39;00m x  \n\u001b[1;32m----> 5\u001b[0m \u001b[38;5;28mprint\u001b[39m(\u001b[43mx\u001b[49m)\n",
      "\u001b[1;31mNameError\u001b[0m: name 'x' is not defined"
     ]
    }
   ],
   "source": [
    "#deleting a variable \n",
    "x= 6  \n",
    "print(x)     \n",
    "del x  \n",
    "print(x)  "
   ]
  },
  {
   "cell_type": "code",
   "execution_count": 23,
   "id": "e4b6c2f6",
   "metadata": {},
   "outputs": [
    {
     "name": "stdout",
     "output_type": "stream",
     "text": [
      "Enter your name adi\n",
      "adi\n"
     ]
    }
   ],
   "source": [
    "# Program to take the user's input\n",
    "\n",
    "name = input('Enter your name ')\n",
    "print(name) "
   ]
  },
  {
   "cell_type": "code",
   "execution_count": 33,
   "id": "cfd2fdba",
   "metadata": {},
   "outputs": [
    {
     "name": "stdout",
     "output_type": "stream",
     "text": [
      "<class 'str'>\n",
      "Hello World\n",
      "<class 'int'>\n",
      "200\n",
      "<class 'float'>\n",
      "2.5\n",
      "<class 'complex'>\n",
      "5j\n",
      "<class 'list'>\n",
      "['apple', 'banana', 'mango']\n",
      "<class 'tuple'>\n",
      "('apple', 'banana', 'mango')\n",
      "<class 'range'>\n",
      "range(0, 6)\n",
      "<class 'dict'>\n",
      "{'name': 'python', 'age': 10}\n",
      "<class 'set'>\n",
      "{'mango', 'banana', 'apple'}\n",
      "<class 'frozenset'>\n",
      "frozenset({'mango', 'banana', 'apple'})\n",
      "<class 'bool'>\n",
      "True\n",
      "<class 'bytes'>\n",
      "b'\\x00\\x00\\x00\\x00\\x00'\n",
      "<class 'bytearray'>\n",
      "bytearray(b'\\x00\\x00\\x00\\x00\\x00')\n",
      "<class 'memoryview'>\n",
      "<memory at 0x0000017A875D4C40>\n"
     ]
    }
   ],
   "source": [
    "#data types\n",
    "\n",
    "a = str(\"Hello World\"); print(type(a))\n",
    "print(a)\n",
    "b = int(200);print(type(b))\n",
    "print(b)\n",
    "c = float(2.5);print(type(c))\n",
    "print(c)\n",
    "d = complex(5j);print(type(d))\n",
    "print(d)\n",
    "e = list((\"apple\", \"banana\", \"mango\"));print(type(e))\n",
    "print(e)\n",
    "f = tuple((\"apple\", \"banana\", \"mango\"));print(type(f))\n",
    "print(f)\n",
    "g = range(6);print(type(g))\n",
    "print(g)\n",
    "h = dict(name=\"python\", age=10);print(type(h))\n",
    "print(h)\n",
    "i = set((\"apple\", \"banana\", \"mango\"));print(type(i))\n",
    "print(i)\n",
    "j = frozenset((\"apple\", \"banana\", \"mango\"));print(type(j))\n",
    "print(j)\n",
    "k = bool(5);print(type(k))\n",
    "print(k)\n",
    "l = bytes(5);print(type(l))\n",
    "print(l)\n",
    "m = bytearray(5);print(type(m))\n",
    "print(m)\n",
    "n = memoryview(bytes(5));print(type(n))\n",
    "print(n)"
   ]
  },
  {
   "cell_type": "code",
   "execution_count": null,
   "id": "9aab4b21",
   "metadata": {},
   "outputs": [],
   "source": []
  }
 ],
 "metadata": {
  "kernelspec": {
   "display_name": "Python 3 (ipykernel)",
   "language": "python",
   "name": "python3"
  },
  "language_info": {
   "codemirror_mode": {
    "name": "ipython",
    "version": 3
   },
   "file_extension": ".py",
   "mimetype": "text/x-python",
   "name": "python",
   "nbconvert_exporter": "python",
   "pygments_lexer": "ipython3",
   "version": "3.9.12"
  }
 },
 "nbformat": 4,
 "nbformat_minor": 5
}
