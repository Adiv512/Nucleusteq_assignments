{
 "cells": [
  {
   "cell_type": "code",
   "execution_count": 7,
   "id": "89b20cdf",
   "metadata": {},
   "outputs": [
    {
     "name": "stdout",
     "output_type": "stream",
     "text": [
      "Hello World!!!!\n",
      "H\n",
      "llo\n",
      "llo World!!!!\n",
      "Hello World!!!!Hello World!!!!\n",
      "Say Hello World!!!!\n",
      "15\n"
     ]
    }
   ],
   "source": [
    "#strings\n",
    "\n",
    "str = 'Hello World!!!!'\n",
    "\n",
    "print (str)          # Prints complete string\n",
    "print (str[0])       # Prints first character of the string\n",
    "print (str[2:5])     # Prints characters starting from 3rd to 5th\n",
    "print (str[2:])      # Prints string starting from 3rd character\n",
    "print (str * 2)      # Prints string two times\n",
    "print (\"Say \"+str) # Prints concatenated string\n",
    "print(len(str))      #print length of string"
   ]
  },
  {
   "cell_type": "code",
   "execution_count": 6,
   "id": "022f8291",
   "metadata": {},
   "outputs": [
    {
     "name": "stdout",
     "output_type": "stream",
     "text": [
      "this\n",
      "is multiline\n",
      "string.\n"
     ]
    }
   ],
   "source": [
    "#multiline strings\n",
    "str1 = \"\"\"this\n",
    "is multiline\n",
    "string.\"\"\"\n",
    "print(str1)"
   ]
  },
  {
   "cell_type": "code",
   "execution_count": 16,
   "id": "1c533945",
   "metadata": {},
   "outputs": [
    {
     "name": "stdout",
     "output_type": "stream",
     "text": [
      "Yes, 'are' is present.\n"
     ]
    }
   ],
   "source": [
    "# check if a certain character is present in a string\n",
    "txt = \"hello, how are u\"\n",
    "if \"are\" in txt:\n",
    "  print(\"Yes, 'are' is present.\")\n",
    "else:\n",
    "  print(\"no\")"
   ]
  },
  {
   "cell_type": "code",
   "execution_count": 20,
   "id": "d268a90b",
   "metadata": {},
   "outputs": [
    {
     "name": "stdout",
     "output_type": "stream",
     "text": [
      "llo\n",
      "Hello\n",
      "llo, World!\n",
      "orl\n"
     ]
    }
   ],
   "source": [
    "#slicing\n",
    "b = \"Hello, World!\"\n",
    "print(b[2:5])\n",
    "print(b[:5])\n",
    "print(b[2:])\n",
    "print(b[-5:-2])\n"
   ]
  },
  {
   "cell_type": "code",
   "execution_count": 25,
   "id": "4be18df6",
   "metadata": {},
   "outputs": [
    {
     "name": "stdout",
     "output_type": "stream",
     "text": [
      "hello, world!\n",
      "JELLO, WORLD!\n",
      "original string: WORD\n",
      "['W', 'O', 'R', 'L', 'D']\n",
      "Modified string: WORLD\n"
     ]
    }
   ],
   "source": [
    "#string modification\n",
    "a = \"HELLO, WORLD!\"\n",
    "print(a.lower())\n",
    "print(a.replace(\"H\", \"J\"))\n",
    "\n",
    "s1=\"WORD\"\n",
    "print (\"original string:\", s1)\n",
    "l1=list(s1)\n",
    "\n",
    "l1.insert(3,\"L\")\n",
    "\n",
    "print (l1)\n",
    "\n",
    "s1=''.join(l1)\n",
    "print (\"Modified string:\", s1)"
   ]
  },
  {
   "cell_type": "code",
   "execution_count": 24,
   "id": "8c907b53",
   "metadata": {},
   "outputs": [
    {
     "name": "stdout",
     "output_type": "stream",
     "text": [
      "Hello World\n"
     ]
    }
   ],
   "source": [
    "a = \"Hello\"\n",
    "b = \"World\"\n",
    "c = a + \" \" + b\n",
    "print(c)"
   ]
  },
  {
   "cell_type": "code",
   "execution_count": 66,
   "id": "7d8bf983",
   "metadata": {},
   "outputs": [
    {
     "name": "stdout",
     "output_type": "stream",
     "text": [
      "Hello, welcome all.\n",
      "hello, welcome all.\n",
      "               hello, welcome all.                \n",
      "1\n",
      "b'hello, welcome all.'\n",
      "True\n",
      "15\n",
      "7\n",
      "False\n",
      "False\n",
      "-1\n",
      "hello, welcome everyone.\n",
      "HELLO, WELCOME ALL.\n"
     ]
    }
   ],
   "source": [
    "#string methods\n",
    "q = \"hello, welcome all.\"\n",
    "\n",
    "x = q.capitalize()\n",
    "\n",
    "print (x)\n",
    "print(q.casefold())\n",
    "print(q.center(50))\n",
    "print(q.count(\"all\"))\n",
    "print(q.encode())\n",
    "print(q.endswith(\".\"))\n",
    "print(q.find(\"all\"))\n",
    "print(q.index(\"welcome\"))\n",
    "print(q.isalpha())\n",
    "print(q.isalnum())\n",
    "print(q.rfind(\"everyone\"))\n",
    "print(q.replace(\"all\",\"everyone\"))\n",
    "print(q.upper())"
   ]
  },
  {
   "cell_type": "code",
   "execution_count": 80,
   "id": "9071d4fe",
   "metadata": {},
   "outputs": [
    {
     "name": "stdout",
     "output_type": "stream",
     "text": [
      "['abcd', 78, 2.23, 'hi', 70.2]\n",
      "abcd\n",
      "[78, 2.23]\n",
      "[2.23, 'hi', 70.2]\n",
      "[123, 'hello', 123, 'hello']\n",
      "['abcd', 78, 2.23, 'hi', 70.2, 123, 'hello']\n",
      "5\n",
      "70.2\n"
     ]
    }
   ],
   "source": [
    "#list\n",
    "list = [ 'abcd', 78 , 2.23, 'hi', 70.2 ]\n",
    "list1 = [123, 'hello']\n",
    "\n",
    "print (list)            # Prints complete list\n",
    "print (list[0])         # Prints first element of the list\n",
    "print (list[1:3])       # Prints elements starting from 2nd till 3rd \n",
    "print (list[2:])        # Prints elements starting from 3rd element\n",
    "print (list1 * 2)    # Prints list two times\n",
    "print (list + list1) # Prints concatenated lists\n",
    "print(len(list))\n",
    "print(list[-1])"
   ]
  },
  {
   "cell_type": "code",
   "execution_count": 88,
   "id": "8f04fd8e",
   "metadata": {},
   "outputs": [
    {
     "name": "stdout",
     "output_type": "stream",
     "text": [
      "['apple', 'blackcurrant', 'cherry']\n",
      "['apple', 'blackcurrant', 'cherry', 'orange']\n",
      "['apple', 'orange', 'blackcurrant', 'cherry', 'orange']\n",
      "['apple', 'blackcurrant', 'cherry', 'orange']\n",
      "['apple', 'blackcurrant', 'cherry']\n"
     ]
    }
   ],
   "source": [
    "thislist = [\"apple\", \"banana\", \"cherry\"]  #modifying list\n",
    "thislist[1] = \"blackcurrant\"\n",
    "print(thislist)\n",
    "thislist.append(\"orange\")\n",
    "print(thislist)\n",
    "thislist.insert(1, \"orange\")\n",
    "print(thislist)\n",
    "thislist.remove(\"orange\")\n",
    "print(thislist)\n",
    "thislist.pop()\n",
    "print(thislist)\n"
   ]
  },
  {
   "cell_type": "code",
   "execution_count": 90,
   "id": "2f022b16",
   "metadata": {},
   "outputs": [
    {
     "name": "stdout",
     "output_type": "stream",
     "text": [
      "['banana', 'kiwi', 'mango', 'orange', 'pineapple']\n",
      "['pineapple', 'orange', 'mango', 'kiwi', 'banana']\n"
     ]
    }
   ],
   "source": [
    "#sorting list\n",
    "thislist = [\"orange\", \"mango\", \"kiwi\", \"pineapple\", \"banana\"]\n",
    "thislist.sort()\n",
    "print(thislist)\n",
    "thislist.sort(reverse = True)\n",
    "print(thislist)\n"
   ]
  },
  {
   "cell_type": "code",
   "execution_count": 92,
   "id": "4f1fa129",
   "metadata": {},
   "outputs": [
    {
     "name": "stdout",
     "output_type": "stream",
     "text": [
      "['a', 'b', 'c', 1, 2, 3]\n"
     ]
    }
   ],
   "source": [
    "list1 = [\"a\", \"b\", \"c\"] #joining list\n",
    "list2 = [1, 2, 3]\n",
    "\n",
    "list3 = list1 + list2\n",
    "print(list3)"
   ]
  },
  {
   "cell_type": "code",
   "execution_count": 99,
   "id": "6a3c089d",
   "metadata": {},
   "outputs": [
    {
     "data": {
      "text/plain": [
       "'\\nappend()Adds an element at the end of the list\\nclear()Removes all the elements from the list\\ncopy()Returns a copy of the list\\ncount()Returns the number of elements with the specified value\\nextend()Add the elements of a list (or any iterable), to the end of the current list\\nindex()Returns the index of the first element with the specified value\\ninsert()Adds an element at the specified position\\npop()Removes the element at the specified position\\nremove()Removes the item with the specified value\\nreverse()Reverses the order of the list\\nsort()Sorts the list \\n'"
      ]
     },
     "execution_count": 99,
     "metadata": {},
     "output_type": "execute_result"
    }
   ],
   "source": [
    "#methods\n",
    "'''\n",
    "append()Adds an element at the end of the list\n",
    "clear()Removes all the elements from the list\n",
    "copy()Returns a copy of the list\n",
    "count()Returns the number of elements with the specified value\n",
    "extend()Add the elements of a list to the end of the current list\n",
    "index()Returns the index of the first element with the specified value\n",
    "insert()Adds an element at the specified position\n",
    "pop()Removes the element at the specified position\n",
    "remove()Removes the item with the specified value\n",
    "reverse()Reverses the order of the list\n",
    "sort()Sorts the list \n",
    "'''\n"
   ]
  },
  {
   "cell_type": "code",
   "execution_count": 101,
   "id": "2f3b6165",
   "metadata": {},
   "outputs": [
    {
     "name": "stdout",
     "output_type": "stream",
     "text": [
      "('apple', 'banana', 'mango')\n"
     ]
    }
   ],
   "source": [
    "#tuples\n",
    "tuple1 = (\"apple\", \"banana\", \"mango\")\n",
    "print(tuple1)"
   ]
  },
  {
   "cell_type": "code",
   "execution_count": 104,
   "id": "79db3be6",
   "metadata": {},
   "outputs": [
    {
     "name": "stdout",
     "output_type": "stream",
     "text": [
      "physics\n",
      "(2, 3, 4, 5)\n"
     ]
    }
   ],
   "source": [
    "tup1 = ('physics', 'chemistry', 1997, 2000);\n",
    "tup2 = (1, 2, 3, 4, 5, 6, 7 );\n",
    "print(tup1[0])\n",
    "print(tup2[1:5])"
   ]
  },
  {
   "cell_type": "code",
   "execution_count": 107,
   "id": "606cbfaa",
   "metadata": {},
   "outputs": [
    {
     "name": "stdout",
     "output_type": "stream",
     "text": [
      "(12, 34.56, 'abc', 'xyz')\n"
     ]
    }
   ],
   "source": [
    "tup1 = (12, 34.56);\n",
    "tup2 = ('abc', 'xyz');\n",
    "tup3 = tup1 + tup2;\n",
    "print (tup3)"
   ]
  },
  {
   "cell_type": "code",
   "execution_count": 1,
   "id": "195c4c97",
   "metadata": {},
   "outputs": [
    {
     "name": "stdout",
     "output_type": "stream",
     "text": [
      "apple\n",
      "banana\n",
      "cherry\n"
     ]
    }
   ],
   "source": [
    "#for loop\n",
    "thistuple = (\"apple\", \"banana\", \"cherry\")\n",
    "for i in range(len(thistuple)):\n",
    "  print(thistuple[i])"
   ]
  },
  {
   "cell_type": "code",
   "execution_count": 3,
   "id": "5a9f5065",
   "metadata": {},
   "outputs": [],
   "source": [
    "#set\n",
    "# Creating an empty set\n",
    "empty_set = set()\n",
    "\n",
    "# Creating a set with elements\n",
    "my_set = {1, 2, 3, 4, 5}\n",
    "\n",
    "my_set.add(6)  # Add a single element\n",
    "my_set.update([7, 8, 9])  # Add multiple elements\n",
    "my_set.remove(2)  # Remove a specific element\n",
    "my_set.discard(10)  # Remove an element if it exists, without raising an error\n",
    "my_set.pop()  # Remove and return an arbitrary element\n",
    "my_set.clear()  # Remove all elements from the set"
   ]
  },
  {
   "cell_type": "code",
   "execution_count": 6,
   "id": "bea5cb1f",
   "metadata": {},
   "outputs": [
    {
     "name": "stdout",
     "output_type": "stream",
     "text": [
      "{1, 2, 4, 5}\n"
     ]
    }
   ],
   "source": [
    "# Union\n",
    "set1 = {1, 2, 3}\n",
    "set2 = {3, 4, 5}\n",
    "union_set = set1 | set2  # {1, 2, 3, 4, 5}\n",
    "\n",
    "# Intersection\n",
    "intersection_set = set1 & set2  # {3}\n",
    "\n",
    "# Difference\n",
    "difference_set = set1 - set2  # {1, 2}\n",
    "\n",
    "# Symmetric Difference\n",
    "symmetric_difference_set = set1 ^ set2  # {1, 2, 4, 5}\n",
    "print(symmetric_difference_set)"
   ]
  },
  {
   "cell_type": "code",
   "execution_count": 7,
   "id": "206fc2d1",
   "metadata": {},
   "outputs": [
    {
     "name": "stdout",
     "output_type": "stream",
     "text": [
      "False\n",
      "0\n"
     ]
    }
   ],
   "source": [
    "# Check if an element exists in the set\n",
    "print(3 in my_set)  # True\n",
    "\n",
    "# Get the number of elements in the set\n",
    "print(len(my_set))\n",
    "\n",
    "# Convert a list to a set\n",
    "my_list = [1, 2, 3, 3, 4, 5]\n",
    "unique_set = set(my_list)  # {1, 2, 3, 4, 5}\n",
    "\n",
    "# Iterate over a set\n",
    "for item in my_set:\n",
    "    print(item)\n",
    "\n",
    "# Copy a set\n",
    "copied_set = my_set.copy()\n",
    "\n",
    "# Check if one set is subset/superset of another\n",
    "subset_check = set1.issubset(set2)\n",
    "superset_check = set1.issuperset(set2)\n",
    "\n",
    "# Check if two sets are disjoint (have no common elements)\n",
    "disjoint_check = set1.isdisjoint(set2)\n",
    "\n"
   ]
  },
  {
   "cell_type": "code",
   "execution_count": 17,
   "id": "d16c9199",
   "metadata": {},
   "outputs": [
    {
     "name": "stdout",
     "output_type": "stream",
     "text": [
      "{'key1': 'value1', 'key2': 'value2', 'key3': 'value3'}\n"
     ]
    }
   ],
   "source": [
    "#dictionary\n",
    "# Creating an empty dictionary\n",
    "empty_dict = {}\n",
    "\n",
    "# Creating a dictionary with key-value pairs\n",
    "my_dict = {\"key1\": \"value1\", \"key2\": \"value2\", \"key3\": \"value3\"}\n",
    "print(my_dict)"
   ]
  },
  {
   "cell_type": "code",
   "execution_count": 18,
   "id": "e910734b",
   "metadata": {},
   "outputs": [],
   "source": [
    "# Accessing values using keys\n",
    "value = my_dict[\"key1\"]  # Accessing value1\n",
    "\n",
    "# Modifying values\n",
    "my_dict[\"key2\"] = \"new_value\"  # Modifying value of key2\n",
    "\n",
    "# Adding new key-value pairs\n",
    "my_dict[\"key4\"] = \"value4\""
   ]
  },
  {
   "cell_type": "code",
   "execution_count": 19,
   "id": "52f7800e",
   "metadata": {},
   "outputs": [
    {
     "name": "stdout",
     "output_type": "stream",
     "text": [
      "4\n",
      "True\n"
     ]
    }
   ],
   "source": [
    "# Getting the number of key-value pairs in the dictionary\n",
    "print(len(my_dict))\n",
    "\n",
    "# Checking if a key exists in the dictionary\n",
    "print(\"key1\" in my_dict)  # True\n",
    "\n",
    "# Removing a key-value pair\n",
    "removed_value = my_dict.pop(\"key3\")\n",
    "\n",
    "# Getting a list of keys\n",
    "keys_list = list(my_dict.keys())\n",
    "\n",
    "# Getting a list of values\n",
    "values_list = list(my_dict.values())\n",
    "\n",
    "# Getting a list of key-value pairs as tuples\n",
    "items_list = list(my_dict.items())\n",
    "\n",
    "# Clearing all key-value pairs from the dictionary\n",
    "my_dict.clear()"
   ]
  },
  {
   "cell_type": "code",
   "execution_count": 21,
   "id": "d6179864",
   "metadata": {},
   "outputs": [
    {
     "name": "stdout",
     "output_type": "stream",
     "text": [
      "{'key1': 'value1', 'key2': 'value2', 'key3': 'value3'}\n",
      "key1\n",
      "key2\n",
      "key3\n",
      "value1\n",
      "value2\n",
      "value3\n",
      "key1 value1\n",
      "key2 value2\n",
      "key3 value3\n"
     ]
    }
   ],
   "source": [
    "# Iterating over keys\n",
    "my_dict = {\"key1\": \"value1\", \"key2\": \"value2\", \"key3\": \"value3\"}\n",
    "print(my_dict)\n",
    "for key in my_dict:\n",
    "    print(key)\n",
    "\n",
    "# Iterating over values\n",
    "for value in my_dict.values():\n",
    "    print(value)\n",
    "\n",
    "# Iterating over key-value pairs\n",
    "for key, value in my_dict.items():\n",
    "    print(key, value)"
   ]
  },
  {
   "cell_type": "code",
   "execution_count": null,
   "id": "864b0621",
   "metadata": {},
   "outputs": [],
   "source": []
  }
 ],
 "metadata": {
  "kernelspec": {
   "display_name": "Python 3 (ipykernel)",
   "language": "python",
   "name": "python3"
  },
  "language_info": {
   "codemirror_mode": {
    "name": "ipython",
    "version": 3
   },
   "file_extension": ".py",
   "mimetype": "text/x-python",
   "name": "python",
   "nbconvert_exporter": "python",
   "pygments_lexer": "ipython3",
   "version": "3.9.12"
  }
 },
 "nbformat": 4,
 "nbformat_minor": 5
}
