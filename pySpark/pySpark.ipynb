{
 "cells": [
  {
   "cell_type": "code",
   "execution_count": 1,
   "id": "196defb7",
   "metadata": {},
   "outputs": [],
   "source": [
    "from pyspark.sql import SparkSession\n",
    "from pyspark.sql.types import StructType, StructField, IntegerType, StringType\n",
    "import pyspark.sql.functions as func"
   ]
  },
  {
   "cell_type": "code",
   "execution_count": 22,
   "id": "61fc3d48",
   "metadata": {},
   "outputs": [],
   "source": [
    "spark = SparkSession.builder.appName(\"FirstApp\").getOrCreate()"
   ]
  },
  {
   "cell_type": "code",
   "execution_count": 15,
   "id": "6eabd3b6",
   "metadata": {},
   "outputs": [],
   "source": [
    "myschema = StructType([\\\n",
    "                       StructField(\"userID\", IntegerType(), True),\n",
    "                       StructField(\"name\", StringType(), True),\n",
    "                       StructField(\"age\",IntegerType(), True),\n",
    "                       StructField(\"friends\",IntegerType(), True),\n",
    "                        ])"
   ]
  },
  {
   "cell_type": "code",
   "execution_count": 16,
   "id": "e056af59",
   "metadata": {},
   "outputs": [],
   "source": [
    "people = spark.read.format(\"csv\")\\\n",
    "    .schema(myschema)\\\n",
    "    .option(\"Path\",\"fakefriends.csv\")\\\n",
    "    .load()"
   ]
  },
  {
   "cell_type": "code",
   "execution_count": 29,
   "id": "300e3665",
   "metadata": {},
   "outputs": [
    {
     "name": "stdout",
     "output_type": "stream",
     "text": [
      "root\n",
      " |-- userID: integer (nullable = true)\n",
      " |-- name: string (nullable = true)\n",
      " |-- age: integer (nullable = true)\n",
      " |-- friends: integer (nullable = true)\n",
      "\n"
     ]
    }
   ],
   "source": [
    "people.printSchema()"
   ]
  },
  {
   "cell_type": "code",
   "execution_count": 17,
   "id": "d88fad5a",
   "metadata": {},
   "outputs": [],
   "source": [
    "output = people.select(people.userID,people.name\\\n",
    "                       ,people.age,people.friends)\\\n",
    "         .where(people.age < 30).withColumn('insert_ts', func.current_timestamp())\\\n",
    "         .orderBy(people.userID)"
   ]
  },
  {
   "cell_type": "code",
   "execution_count": 18,
   "id": "69437c17",
   "metadata": {},
   "outputs": [
    {
     "data": {
      "text/plain": [
       "112"
      ]
     },
     "execution_count": 18,
     "metadata": {},
     "output_type": "execute_result"
    }
   ],
   "source": [
    "output.count()"
   ]
  },
  {
   "cell_type": "code",
   "execution_count": 44,
   "id": "f3a158ef",
   "metadata": {},
   "outputs": [
    {
     "name": "stdout",
     "output_type": "stream",
     "text": [
      "+------+--------+---+-------+\n",
      "|userID|    name|age|friends|\n",
      "+------+--------+---+-------+\n",
      "|     3|  Deanna| 40|    465|\n",
      "|    13|Jean-Luc| 56|    444|\n",
      "|    18|Jean-Luc| 45|    455|\n",
      "|    25|     Ben| 21|    445|\n",
      "|    28|  Martok| 49|    476|\n",
      "|    40|     Odo| 52|    413|\n",
      "|    61|  Kasidy| 62|    442|\n",
      "|    66|  Geordi| 21|    477|\n",
      "|    75|    Morn| 40|    459|\n",
      "|    77|  Weyoun| 40|    407|\n",
      "+------+--------+---+-------+\n",
      "only showing top 10 rows\n",
      "\n"
     ]
    }
   ],
   "source": [
    "filtered_people = people.filter(func.col(\"friends\") > 400)\n",
    "filtered_people.show(10)"
   ]
  },
  {
   "cell_type": "code",
   "execution_count": 46,
   "id": "1ddc5df5",
   "metadata": {},
   "outputs": [
    {
     "name": "stdout",
     "output_type": "stream",
     "text": [
      "+---+-----+\n",
      "|age|count|\n",
      "+---+-----+\n",
      "| 31|    8|\n",
      "| 65|    5|\n",
      "| 53|    7|\n",
      "| 34|    6|\n",
      "| 28|   10|\n",
      "| 26|   17|\n",
      "| 27|    8|\n",
      "| 44|   12|\n",
      "| 22|    7|\n",
      "| 47|    9|\n",
      "+---+-----+\n",
      "only showing top 10 rows\n",
      "\n"
     ]
    }
   ],
   "source": [
    "age_group = people.groupBy(\"age\").count()\n",
    "age_group.show(10)"
   ]
  },
  {
   "cell_type": "code",
   "execution_count": 34,
   "id": "d7f6c234",
   "metadata": {},
   "outputs": [],
   "source": [
    "output.createOrReplaceTempView(\"peoples\")"
   ]
  },
  {
   "cell_type": "code",
   "execution_count": 31,
   "id": "050c41fb",
   "metadata": {},
   "outputs": [
    {
     "name": "stdout",
     "output_type": "stream",
     "text": [
      "+------+--------+---+-------+--------------------+\n",
      "|userID|    name|age|friends|           insert_ts|\n",
      "+------+--------+---+-------+--------------------+\n",
      "|     1|Jean-Luc| 26|      2|2024-07-05 14:01:...|\n",
      "|     9|    Hugh| 27|    181|2024-07-05 14:01:...|\n",
      "|    16|  Weyoun| 22|    323|2024-07-05 14:01:...|\n",
      "|    21|   Miles| 19|    268|2024-07-05 14:01:...|\n",
      "|    24|  Julian| 25|      1|2024-07-05 14:01:...|\n",
      "|    25|     Ben| 21|    445|2024-07-05 14:01:...|\n",
      "|    26|  Julian| 22|    100|2024-07-05 14:01:...|\n",
      "|    32|     Nog| 26|    281|2024-07-05 14:01:...|\n",
      "|    35| Beverly| 27|    305|2024-07-05 14:01:...|\n",
      "|    46|    Morn| 25|     96|2024-07-05 14:01:...|\n",
      "|    47|   Brunt| 24|     49|2024-07-05 14:01:...|\n",
      "|    48|     Nog| 20|      1|2024-07-05 14:01:...|\n",
      "|    52| Beverly| 19|    269|2024-07-05 14:01:...|\n",
      "|    54|   Brunt| 19|      5|2024-07-05 14:01:...|\n",
      "|    60|  Geordi| 20|    100|2024-07-05 14:01:...|\n",
      "|    66|  Geordi| 21|    477|2024-07-05 14:01:...|\n",
      "|    72|  Kasidy| 22|    179|2024-07-05 14:01:...|\n",
      "|    73|   Brunt| 20|    384|2024-07-05 14:01:...|\n",
      "|    84|     Ben| 28|    311|2024-07-05 14:01:...|\n",
      "|    89|    Worf| 24|    492|2024-07-05 14:01:...|\n",
      "|    95|     Odo| 29|    173|2024-07-05 14:01:...|\n",
      "|    96|    Ezri| 25|    233|2024-07-05 14:01:...|\n",
      "|   106| Beverly| 18|    499|2024-07-05 14:01:...|\n",
      "|   108|   Leeta| 25|    274|2024-07-05 14:01:...|\n",
      "|   112|    Morn| 25|     13|2024-07-05 14:01:...|\n",
      "|   115|   Dukat| 18|    397|2024-07-05 14:01:...|\n",
      "|   118|     Ben| 28|    304|2024-07-05 14:01:...|\n",
      "|   119|    Worf| 29|    344|2024-07-05 14:01:...|\n",
      "|   126|   Brunt| 26|     84|2024-07-05 14:01:...|\n",
      "|   133|   Quark| 19|    265|2024-07-05 14:01:...|\n",
      "|   136|    Will| 19|    335|2024-07-05 14:01:...|\n",
      "|   137|  Martok| 28|     32|2024-07-05 14:01:...|\n",
      "|   144|   Miles| 22|     93|2024-07-05 14:01:...|\n",
      "|   165|   Leeta| 26|    282|2024-07-05 14:01:...|\n",
      "|   166| Lwaxana| 25|     10|2024-07-05 14:01:...|\n",
      "|   171|  Weyoun| 29|    126|2024-07-05 14:01:...|\n",
      "|   173|   Leeta| 23|    129|2024-07-05 14:01:...|\n",
      "|   178|  Kasidy| 26|    381|2024-07-05 14:01:...|\n",
      "|   182|  Weyoun| 26|    145|2024-07-05 14:01:...|\n",
      "|   200|  Kasidy| 21|    472|2024-07-05 14:01:...|\n",
      "|   201|    Ezri| 23|    174|2024-07-05 14:01:...|\n",
      "|   206|    Will| 21|    491|2024-07-05 14:01:...|\n",
      "|   209|   Brunt| 27|    174|2024-07-05 14:01:...|\n",
      "|   213|    Worf| 28|    312|2024-07-05 14:01:...|\n",
      "|   215|    Will| 22|      6|2024-07-05 14:01:...|\n",
      "|   217|   Keiko| 29|    260|2024-07-05 14:01:...|\n",
      "|   219| Lwaxana| 26|    345|2024-07-05 14:01:...|\n",
      "|   221|   Dukat| 27|    150|2024-07-05 14:01:...|\n",
      "|   225|    Elim| 19|    106|2024-07-05 14:01:...|\n",
      "|   228|  Martok| 26|    293|2024-07-05 14:01:...|\n",
      "|   229|  Gowron| 24|    150|2024-07-05 14:01:...|\n",
      "|   238|  Deanna| 25|    305|2024-07-05 14:01:...|\n",
      "|   242|    Data| 25|    101|2024-07-05 14:01:...|\n",
      "|   244|   Dukat| 21|    471|2024-07-05 14:01:...|\n",
      "|   245|Jean-Luc| 28|    174|2024-07-05 14:01:...|\n",
      "|   248|   Dukat| 21|    138|2024-07-05 14:01:...|\n",
      "|   259|  Kasidy| 29|     11|2024-07-05 14:01:...|\n",
      "|   264|  Julian| 29|    228|2024-07-05 14:01:...|\n",
      "|   265|  Gowron| 27|    471|2024-07-05 14:01:...|\n",
      "|   268|    Ezri| 26|    298|2024-07-05 14:01:...|\n",
      "|   271|    Morn| 25|    446|2024-07-05 14:01:...|\n",
      "|   272|   Quark| 29|    367|2024-07-05 14:01:...|\n",
      "|   279| Beverly| 23|    133|2024-07-05 14:01:...|\n",
      "|   280|   Nerys| 26|    492|2024-07-05 14:01:...|\n",
      "|   281|    Worf| 21|     89|2024-07-05 14:01:...|\n",
      "|   284|     Nog| 26|    269|2024-07-05 14:01:...|\n",
      "|   291|   Dukat| 23|    373|2024-07-05 14:01:...|\n",
      "|   293|  Deanna| 23|     65|2024-07-05 14:01:...|\n",
      "|   301|  Weyoun| 28|    108|2024-07-05 14:01:...|\n",
      "|   304|    Will| 19|    404|2024-07-05 14:01:...|\n",
      "|   305|   Quark| 29|    182|2024-07-05 14:01:...|\n",
      "|   306| Beverly| 23|    323|2024-07-05 14:01:...|\n",
      "|   315|  Weyoun| 25|    208|2024-07-05 14:01:...|\n",
      "|   323|     Nog| 29|    236|2024-07-05 14:01:...|\n",
      "|   327|  Julian| 20|     63|2024-07-05 14:01:...|\n",
      "|   333|     Ben| 29|    207|2024-07-05 14:01:...|\n",
      "|   335|     Odo| 27|    337|2024-07-05 14:01:...|\n",
      "|   338|    Will| 28|    180|2024-07-05 14:01:...|\n",
      "|   341|    Data| 18|    326|2024-07-05 14:01:...|\n",
      "|   343|     Odo| 26|    254|2024-07-05 14:01:...|\n",
      "|   346|    Hugh| 29|    329|2024-07-05 14:01:...|\n",
      "|   349|  Kasidy| 20|    277|2024-07-05 14:01:...|\n",
      "|   352|  Deanna| 27|     53|2024-07-05 14:01:...|\n",
      "|   357|   Brunt| 26|      7|2024-07-05 14:01:...|\n",
      "|   366|   Keiko| 19|    119|2024-07-05 14:01:...|\n",
      "|   368|    Elim| 26|    383|2024-07-05 14:01:...|\n",
      "|   373|   Quark| 19|    272|2024-07-05 14:01:...|\n",
      "|   376|  Gowron| 23|    392|2024-07-05 14:01:...|\n",
      "|   377| Beverly| 18|    418|2024-07-05 14:01:...|\n",
      "|   390|  Martok| 22|    266|2024-07-05 14:01:...|\n",
      "|   394|   Keiko| 23|    230|2024-07-05 14:01:...|\n",
      "|   398| Lwaxana| 26|    124|2024-07-05 14:01:...|\n",
      "|   399| Beverly| 24|    401|2024-07-05 14:01:...|\n",
      "|   400|    Data| 29|    128|2024-07-05 14:01:...|\n",
      "|   403|  Weyoun| 21|    224|2024-07-05 14:01:...|\n",
      "|   404|  Kasidy| 18|     24|2024-07-05 14:01:...|\n",
      "|   409|     Nog| 19|    267|2024-07-05 14:01:...|\n",
      "|   420|  Jadzia| 26|    391|2024-07-05 14:01:...|\n",
      "|   426|    Worf| 24|     77|2024-07-05 14:01:...|\n",
      "|   427|   Brunt| 28|    258|2024-07-05 14:01:...|\n",
      "+------+--------+---+-------+--------------------+\n",
      "only showing top 100 rows\n",
      "\n"
     ]
    }
   ],
   "source": [
    "spark.sql(\"select * from peoples\").show(100)"
   ]
  },
  {
   "cell_type": "code",
   "execution_count": 28,
   "id": "474a5553",
   "metadata": {},
   "outputs": [
    {
     "name": "stdout",
     "output_type": "stream",
     "text": [
      "+--------+---+-------+\n",
      "|    name|age|friends|\n",
      "+--------+---+-------+\n",
      "|Jean-Luc| 26|      2|\n",
      "|    Hugh| 27|    181|\n",
      "|  Weyoun| 22|    323|\n",
      "|   Miles| 19|    268|\n",
      "|  Julian| 25|      1|\n",
      "|     Ben| 21|    445|\n",
      "|  Julian| 22|    100|\n",
      "|     Nog| 26|    281|\n",
      "| Beverly| 27|    305|\n",
      "|    Morn| 25|     96|\n",
      "|   Brunt| 24|     49|\n",
      "|     Nog| 20|      1|\n",
      "| Beverly| 19|    269|\n",
      "|   Brunt| 19|      5|\n",
      "|  Geordi| 20|    100|\n",
      "|  Geordi| 21|    477|\n",
      "|  Kasidy| 22|    179|\n",
      "|   Brunt| 20|    384|\n",
      "|     Ben| 28|    311|\n",
      "|    Worf| 24|    492|\n",
      "+--------+---+-------+\n",
      "only showing top 20 rows\n",
      "\n"
     ]
    }
   ],
   "source": [
    "spark.sql(\"select name,age,friends from peoples\").show()"
   ]
  },
  {
   "cell_type": "code",
   "execution_count": null,
   "id": "87c5c790",
   "metadata": {},
   "outputs": [],
   "source": []
  }
 ],
 "metadata": {
  "kernelspec": {
   "display_name": "Python 3 (ipykernel)",
   "language": "python",
   "name": "python3"
  },
  "language_info": {
   "codemirror_mode": {
    "name": "ipython",
    "version": 3
   },
   "file_extension": ".py",
   "mimetype": "text/x-python",
   "name": "python",
   "nbconvert_exporter": "python",
   "pygments_lexer": "ipython3",
   "version": "3.9.12"
  }
 },
 "nbformat": 4,
 "nbformat_minor": 5
}
